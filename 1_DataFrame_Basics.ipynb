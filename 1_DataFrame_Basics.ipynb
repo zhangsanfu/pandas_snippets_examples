{
 "cells": [
  {
   "cell_type": "code",
   "execution_count": null,
   "metadata": {},
   "outputs": [],
   "source": [
    "# Pandas DataFrame basics "
   ]
  },
  {
   "cell_type": "code",
   "execution_count": null,
   "metadata": {},
   "outputs": [],
   "source": [
    "#importing pandas library and creating a data set from a csv file\n",
    "import pandas as pd\n",
    "temp_df = pd.read_csv('temperature.csv', sep = ';')\n",
    "temp_df\n",
    "\n",
    "# the dataframe prints the first 5 and last 5 observation"
   ]
  },
  {
   "cell_type": "code",
   "execution_count": null,
   "metadata": {},
   "outputs": [],
   "source": [
    "## shape is the dimension of the data frame (rows. x cols.)\n",
    "temp_df.shape"
   ]
  },
  {
   "cell_type": "code",
   "execution_count": null,
   "metadata": {},
   "outputs": [],
   "source": [
    "rows, cols = temp_df.shape\n",
    "\n",
    "print(f'The data frame has {rows} rows and {cols} columns'.format(rows,cols))"
   ]
  },
  {
   "cell_type": "code",
   "execution_count": null,
   "metadata": {},
   "outputs": [],
   "source": [
    "#head prints the first 5 observations in the data set\n",
    "temp_df.head()"
   ]
  },
  {
   "cell_type": "code",
   "execution_count": null,
   "metadata": {},
   "outputs": [],
   "source": [
    "#tail prints the first 5 observations in the data set\n",
    "temp_df.tail()"
   ]
  },
  {
   "cell_type": "code",
   "execution_count": null,
   "metadata": {},
   "outputs": [],
   "source": [
    "#To print specific number of rows from the top of the data set use head (<Num. of observation>)\n",
    "temp_df.head(7)"
   ]
  },
  {
   "cell_type": "code",
   "execution_count": null,
   "metadata": {},
   "outputs": [],
   "source": [
    "#To print specific number of rows from the bottom of the data set use head (<Num. of observation>)\n",
    "temp_df.tail(7)"
   ]
  },
  {
   "cell_type": "code",
   "execution_count": null,
   "metadata": {},
   "outputs": [],
   "source": [
    "#To print row number 2 to 4 user temp_df[2:5] , 5 is not inclusive\n",
    "temp_df[2:5]"
   ]
  },
  {
   "cell_type": "code",
   "execution_count": null,
   "metadata": {},
   "outputs": [],
   "source": [
    "#To print a fthe entire data frame use temp_df or temp_df[:]\n",
    "temp_df[:]"
   ]
  },
  {
   "cell_type": "code",
   "execution_count": null,
   "metadata": {},
   "outputs": [],
   "source": [
    "#To get the list of columns in the data set use temp_df.columns\n",
    "temp_df.columns"
   ]
  },
  {
   "cell_type": "code",
   "execution_count": null,
   "metadata": {},
   "outputs": [],
   "source": [
    "#To print a particular column user temp_df.date_recorded or temp['date_recorded']\n",
    "temp_df.date_recorded"
   ]
  },
  {
   "cell_type": "code",
   "execution_count": null,
   "metadata": {},
   "outputs": [],
   "source": [
    "temp_df['date_recorded'] # The [ ] is used where the column name has any space"
   ]
  },
  {
   "cell_type": "code",
   "execution_count": null,
   "metadata": {},
   "outputs": [],
   "source": [
    "#To select more than one column from the data frame\n",
    "temp_df[['date_recorded','temperaturemin','temperaturemax']] "
   ]
  },
  {
   "cell_type": "code",
   "execution_count": null,
   "metadata": {},
   "outputs": [],
   "source": [
    "type(temp_df.date_recorded)"
   ]
  },
  {
   "cell_type": "code",
   "execution_count": null,
   "metadata": {},
   "outputs": [],
   "source": [
    "type(temp_df['date_recorded'])"
   ]
  },
  {
   "cell_type": "code",
   "execution_count": null,
   "metadata": {},
   "outputs": [],
   "source": [
    "# To get the maximum of minimum temperature temperature of the data frame\n",
    "temp_df['temperaturemin'].max()"
   ]
  },
  {
   "cell_type": "code",
   "execution_count": null,
   "metadata": {},
   "outputs": [],
   "source": [
    "#Similarly we can get mean, median, modr, sum, std (standard deviation) of all the numeric columns\n",
    "temp_df.mean()\n"
   ]
  },
  {
   "cell_type": "code",
   "execution_count": null,
   "metadata": {},
   "outputs": [],
   "source": [
    "temp_df.median()"
   ]
  },
  {
   "cell_type": "code",
   "execution_count": null,
   "metadata": {},
   "outputs": [],
   "source": [
    "temp_df.mode()"
   ]
  },
  {
   "cell_type": "code",
   "execution_count": null,
   "metadata": {},
   "outputs": [],
   "source": [
    "temp_df.sum()"
   ]
  },
  {
   "cell_type": "code",
   "execution_count": null,
   "metadata": {},
   "outputs": [],
   "source": [
    "#To get the statistics of the data frame\n",
    "temp_df.describe() ## for all the numeric columns"
   ]
  },
  {
   "cell_type": "code",
   "execution_count": null,
   "metadata": {},
   "outputs": [],
   "source": [
    "#Conditionally selecting the data\n",
    "\n",
    "#To get all the records of the data frame where teperaturemin is less than 8.0\n",
    "\n",
    "temp_df[temp_df.temperaturemin < 8.0]"
   ]
  },
  {
   "cell_type": "code",
   "execution_count": null,
   "metadata": {},
   "outputs": [],
   "source": [
    "#Or equivalently \n",
    "temp_df[temp_df['temperaturemin'] < 8.0]"
   ]
  },
  {
   "cell_type": "code",
   "execution_count": null,
   "metadata": {},
   "outputs": [],
   "source": [
    "# The equivalent SQL is\n",
    "\n",
    "*SELECT * FROM temperature WHERE temperaturemin < 8;*\n",
    "\n",
    "![SELECT * FROM temperature WHERE temperaturemin < 8;](images/SQL_WHERE.jpg \"SELECT * FROM temperature WHERE temperaturemin < 8;\")"
   ]
  },
  {
   "cell_type": "code",
   "execution_count": null,
   "metadata": {},
   "outputs": [],
   "source": [
    "# Get the row which has the maximum temperaturemin\n",
    "temp_df[temp_df.temperaturemin == temp_df.temperaturemin.max()]"
   ]
  },
  {
   "cell_type": "code",
   "execution_count": null,
   "metadata": {},
   "outputs": [],
   "source": [
    "# Or Equivalently\n",
    "# Get the row which has the maximum temperaturemin\n",
    "temp_df[temp_df['temperaturemin'] == temp_df['temperaturemin'].max()]"
   ]
  },
  {
   "cell_type": "code",
   "execution_count": null,
   "metadata": {},
   "outputs": [],
   "source": [
    "# Get the row which has the maximum temperaturemin and select only specific columns\n",
    "temp_df[['date_recorded','temperaturemin','temperaturemax']][temp_df.temperaturemin == temp_df.temperaturemin.max()]"
   ]
  },
  {
   "cell_type": "code",
   "execution_count": null,
   "metadata": {},
   "outputs": [],
   "source": [
    "# and operator in where condition\n",
    "temp_df[(temp_df.temperaturemin == 72) & (temp_df.rain == \"Yes\") ]"
   ]
  },
  {
   "cell_type": "code",
   "execution_count": null,
   "metadata": {},
   "outputs": [],
   "source": [
    "# or operator in where condition\n",
    "temp_df[(temp_df.temperaturemin == 72) | (temp_df.rain == \"Yes\") ]"
   ]
  },
  {
   "cell_type": "code",
   "execution_count": null,
   "metadata": {},
   "outputs": [],
   "source": [
    "#Index can be used to fetch a row\n",
    "temp_df.loc[[1,2,4696]]"
   ]
  },
  {
   "cell_type": "code",
   "execution_count": null,
   "metadata": {},
   "outputs": [],
   "source": [
    "temp_df.index # which is a range which starts with 0 and ends with 4701 (exclusive) and increments by 1"
   ]
  },
  {
   "cell_type": "code",
   "execution_count": null,
   "metadata": {},
   "outputs": [],
   "source": [
    "#To change the index to data_recorded\n",
    "\n",
    "temp_df.set_index('date_recorded', inplace = True) # The parameter inplace = True saves the change to the data set"
   ]
  },
  {
   "cell_type": "code",
   "execution_count": null,
   "metadata": {},
   "outputs": [],
   "source": [
    "temp_df #Index got chsanged"
   ]
  },
  {
   "cell_type": "code",
   "execution_count": null,
   "metadata": {},
   "outputs": [],
   "source": [
    "#Fetching the rows by index\n",
    "temp_df.loc[['2007-01-14','2017-12-01']]"
   ]
  },
  {
   "cell_type": "code",
   "execution_count": null,
   "metadata": {},
   "outputs": [],
   "source": [
    "# To reset the index\n",
    "temp_df.reset_index(inplace = True)"
   ]
  },
  {
   "cell_type": "code",
   "execution_count": null,
   "metadata": {},
   "outputs": [],
   "source": [
    "temp_df"
   ]
  }
 ],
 "metadata": {
  "kernelspec": {
   "display_name": "Python 3",
   "language": "python",
   "name": "python3"
  },
  "language_info": {
   "codemirror_mode": {
    "name": "ipython",
    "version": 3
   },
   "file_extension": ".py",
   "mimetype": "text/x-python",
   "name": "python",
   "nbconvert_exporter": "python",
   "pygments_lexer": "ipython3",
   "version": "3.7.4"
  }
 },
 "nbformat": 4,
 "nbformat_minor": 2
}