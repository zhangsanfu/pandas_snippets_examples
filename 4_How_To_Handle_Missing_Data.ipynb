{
 "cells": [
  {
   "cell_type": "markdown",
   "metadata": {},
   "source": [
    "# How to handle missing data in a pandas data frame"
   ]
  },
  {
   "cell_type": "code",
   "execution_count": null,
   "metadata": {},
   "outputs": [],
   "source": [
    "import pandas as pd"
   ]
  },
  {
   "cell_type": "code",
   "execution_count": null,
   "metadata": {},
   "outputs": [],
   "source": [
    "weather_data_df = pd.read_csv(\"C:\\\\PythonTutorial\\\\MyPandas_Blog\\\\data sets\\\\Weather Data With Missing Info.csv\") \n",
    "weather_data_df"
   ]
  },
  {
   "cell_type": "markdown",
   "metadata": {},
   "source": [
    "## Use Case : Converting the date column into date data type"
   ]
  },
  {
   "cell_type": "code",
   "execution_count": null,
   "metadata": {},
   "outputs": [],
   "source": [
    "type(weather_data_df[\"Date\"][0]) #The read_csv method reads date as a string data type"
   ]
  },
  {
   "cell_type": "code",
   "execution_count": null,
   "metadata": {},
   "outputs": [],
   "source": [
    "#To read a column as date pass the argument parse_date = [list of columns]\n",
    "weather_data_df = pd.read_csv(\"C:\\\\PythonTutorial\\\\MyPandas_Blog\\\\data sets\\\\Weather Data With Missing Info.csv\",\n",
    "                              parse_dates = [\"Date\"]) \n",
    "type(weather_data_df[\"Date\"][0])"
   ]
  },
  {
   "cell_type": "code",
   "execution_count": null,
   "metadata": {},
   "outputs": [],
   "source": [
    "weather_data_df"
   ]
  },
  {
   "cell_type": "markdown",
   "metadata": {},
   "source": [
    "## To convert the Date column as the index "
   ]
  },
  {
   "cell_type": "code",
   "execution_count": null,
   "metadata": {},
   "outputs": [],
   "source": [
    "weather_data_df.set_index(\"Date\", inplace = True)\n",
    "weather_data_df"
   ]
  },
  {
   "cell_type": "markdown",
   "metadata": {},
   "source": [
    "## Use Case : To replace the NaN values with some meaningful values or some guess"
   ]
  },
  {
   "cell_type": "code",
   "execution_count": null,
   "metadata": {},
   "outputs": [],
   "source": [
    "new_weather_data_df = weather_data_df.fillna(0)\n",
    "new_weather_data_df\n",
    "\n",
    "#Note : All the NaN values goto replaced with zero (0) irrespective of the column"
   ]
  },
  {
   "cell_type": "code",
   "execution_count": null,
   "metadata": {},
   "outputs": [],
   "source": [
    "# To replace the NaN values with different values based on the column , pass a dictionary\n",
    "new_weather_data_df = weather_data_df.fillna({\n",
    "                                              'Temperature' : 0,\n",
    "                                              'Wind Speed':0,\n",
    "                                              'Condition': 'Unknown'\n",
    "                                             })\n",
    "new_weather_data_df"
   ]
  },
  {
   "cell_type": "markdown",
   "metadata": {},
   "source": [
    "## Use Case : Replacing the NaN values in the column Temperature and Wind Speed with zero will be misleading as the avaerage value, if calculated will be wrong. Moreover someone might think that one day the temperature was 29 and the next day it was zero. One alternative soltion will be to replace the unavailable Temperature with previous day's temperature."
   ]
  },
  {
   "cell_type": "code",
   "execution_count": null,
   "metadata": {},
   "outputs": [],
   "source": [
    "new_weather_data_df = weather_data_df.fillna(method = \"ffill\") #ffill -> forward fill, meaning : if one value of missing then fill it with previous day's value\n",
    "new_weather_data_df"
   ]
  },
  {
   "cell_type": "markdown",
   "metadata": {},
   "source": [
    "## Another option will be to copy the previous day's value"
   ]
  },
  {
   "cell_type": "code",
   "execution_count": null,
   "metadata": {},
   "outputs": [],
   "source": [
    "new_weather_data_df = weather_data_df.fillna(method = \"bfill\") #bfill -> backward fill, meaning : if one value of missing then fill it with next day's value\n",
    "new_weather_data_df"
   ]
  },
  {
   "cell_type": "markdown",
   "metadata": {},
   "source": [
    "## Passing the argument axis = \"column\""
   ]
  },
  {
   "cell_type": "code",
   "execution_count": null,
   "metadata": {},
   "outputs": [],
   "source": [
    "new_weather_data_df = weather_data_df.fillna(method=\"bfill\", axis=\"columns\") #The argument axis = \"columns\" will copy the values from previous or next column based on the method parameter\n",
    "new_weather_data_df"
   ]
  },
  {
   "cell_type": "markdown",
   "metadata": {},
   "source": [
    "## The argument limit will only copy the missing value for the specific number of times"
   ]
  },
  {
   "cell_type": "code",
   "execution_count": null,
   "metadata": {},
   "outputs": [],
   "source": [
    "new_weather_data_df = weather_data_df.fillna(method=\"ffill\", limit = 1)\n",
    "new_weather_data_df"
   ]
  },
  {
   "cell_type": "markdown",
   "metadata": {},
   "source": [
    "![fillna with limit](images/fillna_limit.jpg \"fillna_limit.jpg\")"
   ]
  },
  {
   "cell_type": "markdown",
   "metadata": {},
   "source": [
    "## Use Case : Interpolate a missing value"
   ]
  },
  {
   "cell_type": "code",
   "execution_count": null,
   "metadata": {},
   "outputs": [],
   "source": [
    "new_weather_data_df = weather_data_df.interpolate() #By default the method is linear, but we can pass a different method to interpolate\n",
    "new_weather_data_df"
   ]
  },
  {
   "cell_type": "markdown",
   "metadata": {},
   "source": [
    "![interpolate](images/interpolate.jpg \"interpolate.jpg\")"
   ]
  },
  {
   "cell_type": "code",
   "execution_count": null,
   "metadata": {},
   "outputs": [],
   "source": [
    "# Do interpolation with method = \"time\"\n",
    "new_weather_data_df = weather_data_df.interpolate(method = \"time\")\n",
    "new_weather_data_df"
   ]
  },
  {
   "cell_type": "markdown",
   "metadata": {},
   "source": [
    "## To drop the rows having na values in any of the columns"
   ]
  },
  {
   "cell_type": "code",
   "execution_count": null,
   "metadata": {},
   "outputs": [],
   "source": [
    "new_weather_data_df = weather_data_df.dropna()\n",
    "new_weather_data_df"
   ]
  },
  {
   "cell_type": "markdown",
   "metadata": {},
   "source": [
    "## To drop the rows having na values in all the columns pass the argument how = \"all\""
   ]
  },
  {
   "cell_type": "code",
   "execution_count": null,
   "metadata": {},
   "outputs": [],
   "source": [
    "new_weather_data_df = weather_data_df.dropna(how = \"all\")\n",
    "new_weather_data_df"
   ]
  },
  {
   "cell_type": "markdown",
   "metadata": {},
   "source": [
    "## To keep the row which has atleat one non na value pass the argument thresh = 1"
   ]
  },
  {
   "cell_type": "code",
   "execution_count": null,
   "metadata": {},
   "outputs": [],
   "source": [
    "new_weather_data_df = weather_data_df.dropna(thresh = 1)\n",
    "new_weather_data_df"
   ]
  },
  {
   "cell_type": "markdown",
   "metadata": {},
   "source": [
    "## If we pass thresh = 2, then the rows with two na values will be retained"
   ]
  },
  {
   "cell_type": "code",
   "execution_count": null,
   "metadata": {},
   "outputs": [],
   "source": [
    "new_weather_data_df = weather_data_df.dropna(thresh = 2)\n",
    "new_weather_data_df"
   ]
  },
  {
   "cell_type": "markdown",
   "metadata": {},
   "source": [
    "## Use Case: I added the temperature, wind speed and condition for December 13 and want to fill in the missing rows for 11th and 15th December"
   ]
  },
  {
   "cell_type": "code",
   "execution_count": null,
   "metadata": {},
   "outputs": [],
   "source": [
    "weather_data_df = pd.read_csv(\"C:\\\\PythonTutorial\\\\MyPandas_Blog\\\\data sets\\\\Weather Data With Missing Info New.csv\", \n",
    "                              parse_dates = [\"Date\"]) \n",
    "weather_data_df.set_index(\"Date\", inplace = True)"
   ]
  },
  {
   "cell_type": "code",
   "execution_count": null,
   "metadata": {},
   "outputs": [],
   "source": [
    "dt = pd.date_range(\"2019-12-01\",\"2019-12-15\")\n",
    "idx = pd.DatetimeIndex(dt)\n",
    "new_weather_data_df = weather_data_df.reindex(idx)\n",
    "new_weather_data_df"
   ]
  },
  {
   "cell_type": "markdown",
   "metadata": {},
   "source": [
    "## Use Case : Fixing missing values in a data frame having dummy values in the cells where valid value is missing "
   ]
  },
  {
   "cell_type": "code",
   "execution_count": null,
   "metadata": {},
   "outputs": [],
   "source": [
    "import numpy as np # We need to use the NumPy library to solve this use case\n",
    "\n",
    "weather_data_with_missing_value_df = pd.read_csv(\"C:\\\\PythonTutorial\\\\MyPandas_Blog\\\\data sets\\\\weather_data_having_dummy_values_for_misisng_info.csv\", \n",
    "                              parse_dates = [\"Date\"])\n",
    "\n",
    "weather_data_with_missing_value_df"
   ]
  },
  {
   "cell_type": "code",
   "execution_count": null,
   "metadata": {},
   "outputs": [],
   "source": [
    "# Replace the values -100000 with NaN\n",
    "new_weather_data_with_missing_value_df = weather_data_with_missing_value_df.replace(-100000,np.NaN)\n",
    "new_weather_data_with_missing_value_df"
   ]
  },
  {
   "cell_type": "markdown",
   "metadata": {},
   "source": [
    "## Use Case : Different column has different placeholder values  "
   ]
  },
  {
   "cell_type": "code",
   "execution_count": null,
   "metadata": {},
   "outputs": [],
   "source": [
    "weather_data_with_missing_value_df1 = pd.read_csv(\"C:\\\\PythonTutorial\\\\MyPandas_Blog\\\\data sets\\\\weather_data_having_dummy_values_for_misisng_info1.csv\", \n",
    "                              parse_dates = [\"Date\"])\n",
    "\n",
    "weather_data_with_missing_value_df1"
   ]
  },
  {
   "cell_type": "code",
   "execution_count": null,
   "metadata": {},
   "outputs": [],
   "source": [
    "# To fix these unknown values we have to pass a list \n",
    "new_weather_data_with_missing_value_df1 = weather_data_with_missing_value_df.replace([-100000,-100], np.NaN)\n",
    "new_weather_data_with_missing_value_df1"
   ]
  },
  {
   "cell_type": "markdown",
   "metadata": {},
   "source": [
    "## Use Case : Replacing the different placeholder values in different columns"
   ]
  },
  {
   "cell_type": "code",
   "execution_count": null,
   "metadata": {},
   "outputs": [],
   "source": [
    "## To replacing the different placeholder values in different columns we have to pass a dictionary instead of a list\n",
    "\n",
    "new_weather_data_with_missing_value_df1 = weather_data_with_missing_value_df.replace({\n",
    "    'Temperature':-100000,\n",
    "    'Wind Speed':-100,\n",
    "    'Condition':'Not Known'\n",
    "}, np.NaN)\n",
    "new_weather_data_with_missing_value_df1"
   ]
  },
  {
   "cell_type": "code",
   "execution_count": null,
   "metadata": {},
   "outputs": [],
   "source": [
    "# We can also pass a simple dictionary , which is a mapping\n",
    "new_weather_data_with_missing_value_df1 = weather_data_with_missing_value_df.replace({\n",
    "    -100000:np.NaN,\n",
    "    -100:np.NaN,\n",
    "    'Not Known':np.NaN\n",
    "})\n",
    "new_weather_data_with_missing_value_df1"
   ]
  },
  {
   "cell_type": "markdown",
   "metadata": {},
   "source": [
    "## Use Case : Replacing the different placeholder values with different data types  in different columns"
   ]
  },
  {
   "cell_type": "code",
   "execution_count": null,
   "metadata": {},
   "outputs": [],
   "source": [
    "weather_data_with_missing_value_df2 = pd.read_csv(\"C:\\\\PythonTutorial\\\\MyPandas_Blog\\\\data sets\\\\weather_data_having_dummy_values_for_misisng_info2.csv\", \n",
    "                              parse_dates = [\"Date\"])\n",
    "\n",
    "weather_data_with_missing_value_df2"
   ]
  },
  {
   "cell_type": "code",
   "execution_count": null,
   "metadata": {},
   "outputs": [],
   "source": [
    "## Here to want to remove all the alphabetic characters in the columns Temperature and Wind Speed with a blank string\n",
    "## Here we will use regular expression to replece the values\n",
    "new_weather_data_with_missing_value_df2 = weather_data_with_missing_value_df2.replace('[A-Za-z]','',regex = True)\n",
    "new_weather_data_with_missing_value_df2"
   ]
  },
  {
   "cell_type": "markdown",
   "metadata": {},
   "source": [
    "## This also erased the Condition column\n",
    "\n",
    "*So we need to use a dictionary to replace the alphabets in specific columns*"
   ]
  },
  {
   "cell_type": "code",
   "execution_count": null,
   "metadata": {},
   "outputs": [],
   "source": [
    "new_weather_data_with_missing_value_df2 = weather_data_with_missing_value_df2.replace({\n",
    "    'Temperature':'[A-Za-z]',\n",
    "    'Wind Speed': '[A-Za-z]'\n",
    "},'',regex = True)\n",
    "new_weather_data_with_missing_value_df2"
   ]
  },
  {
   "cell_type": "markdown",
   "metadata": {},
   "source": [
    "## Use Case : To replace a list of values with another list of values"
   ]
  },
  {
   "cell_type": "code",
   "execution_count": null,
   "metadata": {},
   "outputs": [],
   "source": [
    "student_df = pd.DataFrame({\n",
    "    'score': ['exceptional','average', 'good', 'poor', 'average', 'exceptional'],\n",
    "    'student': ['rob', 'maya', 'parthiv', 'tom', 'julian', 'erica']\n",
    "})\n",
    "student_df"
   ]
  },
  {
   "cell_type": "code",
   "execution_count": null,
   "metadata": {},
   "outputs": [],
   "source": [
    "# To replace the score with numbers\n",
    "new_student_df = student_df.replace([\"exceptional\", \"average\", \"good\", \"poor\"],[3,2,1,0])\n",
    "\n",
    "new_student_df"
   ]
  }
 ],
 "metadata": {
  "kernelspec": {
   "display_name": "Python 3",
   "language": "python",
   "name": "python3"
  },
  "language_info": {
   "codemirror_mode": {
    "name": "ipython",
    "version": 3
   },
   "file_extension": ".py",
   "mimetype": "text/x-python",
   "name": "python",
   "nbconvert_exporter": "python",
   "pygments_lexer": "ipython3",
   "version": "3.7.4"
  }
 },
 "nbformat": 4,
 "nbformat_minor": 2
}