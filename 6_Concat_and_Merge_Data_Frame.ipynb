{
 "cells": [
  {
   "cell_type": "markdown",
   "metadata": {},
   "source": [
    "# Concatenating and Merging Pandas Data Frames"
   ]
  },
  {
   "cell_type": "markdown",
   "metadata": {},
   "source": [
    "## *Horizontal Concatenation*"
   ]
  },
  {
   "cell_type": "code",
   "execution_count": null,
   "metadata": {},
   "outputs": [],
   "source": [
    "import pandas as pd"
   ]
  },
  {
   "cell_type": "code",
   "execution_count": null,
   "metadata": {},
   "outputs": [],
   "source": [
    "#Creating a data frame of Indian cities (Grade I) and its population\n",
    "\n",
    "indian_cities_grade_I_df = pd.DataFrame({\n",
    "    \"City\": [\"Mumbai\",\"Delhi\",\"Bengaluru\",\"Ahmedabad\",\"Hyderabad\",\"Chennai\",\"Kolkata\"],\n",
    "    \"State\": [\"Maharashtra\",\"Delhi\",\"Karnataka\",\"Gujarat\",\"Telangana\",\"Tamil Nadu\",\"West Bengal\"],\n",
    "    \"Type\": [\"Municipal Corporation / Corporation\"] * 7,\n",
    "    \"Population\":[13597924,11007835,8425970,7208200,6809970,4681087,4486679]\n",
    "})\n",
    "\n",
    "indian_cities_grade_I_df"
   ]
  },
  {
   "cell_type": "code",
   "execution_count": null,
   "metadata": {},
   "outputs": [],
   "source": [
    "#Creating a second data frame of Indian cities (Grade II) and its population\n",
    "\n",
    "indian_cities_grade_II_df = pd.DataFrame({\n",
    "    \"City\": [\"Habra\",\"Amalner\",\"Akot\",\"Gokak\"],\n",
    "    \"State\": [\"West Bengal\",\"Maharashtra\",\"Maharashtra\",\"Karnataka\"],\n",
    "    \"Type\": [\"Municipality\",\"Municipal Council\",\"Municipal Council\",\"City Municipal Council\"],\n",
    "    \"Population\":[149675,95994,92637,79121]\n",
    "})\n",
    "\n",
    "indian_cities_grade_II_df\n"
   ]
  },
  {
   "cell_type": "markdown",
   "metadata": {},
   "source": [
    "## Use Case : Creating one single data frame for Grade I and II Indian cities "
   ]
  },
  {
   "cell_type": "code",
   "execution_count": null,
   "metadata": {},
   "outputs": [],
   "source": [
    "indian_cities_grade_I_and_II = pd.concat([indian_cities_grade_I_df,indian_cities_grade_II_df])\n",
    "indian_cities_grade_I_and_II"
   ]
  },
  {
   "cell_type": "markdown",
   "metadata": {},
   "source": [
    "# Creating word cloud of product name by sales\n",
    "\n",
    "*Concatenting two data frames*\n",
    "\n",
    "![Concatenting two data frames](images/data_frame_concat.jpg \"data_frame_concat.jpg\")"
   ]
  },
  {
   "cell_type": "code",
   "execution_count": null,
   "metadata": {},
   "outputs": [],
   "source": [
    "#To make the index continuous pass the argument ignore_index = True\n",
    "indian_cities_grade_I_and_II = pd.concat([indian_cities_grade_I_df,indian_cities_grade_II_df], ignore_index = True)\n",
    "indian_cities_grade_I_and_II"
   ]
  },
  {
   "cell_type": "code",
   "execution_count": null,
   "metadata": {},
   "outputs": [],
   "source": [
    "# We can associate a key with the data frames by passing an argument keys \n",
    "indian_cities_grade_I_and_II = pd.concat([indian_cities_grade_I_df,indian_cities_grade_II_df], \n",
    "                                        keys = [\"Grade I\",\"Grade II\"])\n",
    "indian_cities_grade_I_and_II"
   ]
  },
  {
   "cell_type": "code",
   "execution_count": null,
   "metadata": {},
   "outputs": [],
   "source": [
    "# To fetch all the details of all the Grade I cities\n",
    "indian_cities_grade_I_and_II.loc['Grade I']"
   ]
  },
  {
   "cell_type": "code",
   "execution_count": null,
   "metadata": {},
   "outputs": [],
   "source": [
    "# To fetch all the details of all the Grade II cities\n",
    "indian_cities_grade_I_and_II.loc['Grade II']"
   ]
  },
  {
   "cell_type": "markdown",
   "metadata": {},
   "source": [
    "## *Vertical Concatenation*"
   ]
  },
  {
   "cell_type": "code",
   "execution_count": null,
   "metadata": {},
   "outputs": [],
   "source": [
    "# Let us create a data frame of Indian cities with their population\n",
    "indian_cities_population_df = pd.DataFrame({\n",
    "    'City':['Mumbai','Kolkata','Amalner','Hyderabad','Habra','Akot','Bengaluru','Gokak','Delhi','Ahmedabad','Chennai'],\n",
    "    'Popilation':[13597924,4486679,95994,6809970,149675,92637,8425970,79121,11007835,7208200,4681087]\n",
    "})\n",
    "indian_cities_population_df"
   ]
  },
  {
   "cell_type": "code",
   "execution_count": null,
   "metadata": {},
   "outputs": [],
   "source": [
    "# Creating a data set with city , state and type\n",
    "\n",
    "indian_cities_and_state_df = pd.DataFrame({\n",
    "    'City': ['Mumbai','Delhi','Bengaluru','Ahmedabad','Hyderabad','Chennai','Kolkata','Habra','Gokak','Akot','Amalner'],\n",
    "    'State': ['Maharashtra','Delhi','Karnataka','Gujarat','Telengana','Tamil Nadu','West Bangal','West Bangal','Karnataka','Maharashtra','Maharashtra'],\n",
    "    'Type': ['Municipal Corporation / Corporation','Municipal Corporation / Corporation','Municipal Corporation / Corporation','Municipal Corporation / Corporation','Municipal Corporation / Corporation','Municipal Corporation / Corporation','Municipal Corporation / Corporation','Municipality','City Municipal Council','Municipal Council','Municipal Council'],\n",
    "    'Class': ['Grade I','Grade I','Grade I','Grade I','Grade I','Grade I','Grade I','Grade II','Grade II','Grade II','Grade II']\n",
    "}\n",
    ")\n",
    "indian_cities_and_state_df"
   ]
  },
  {
   "cell_type": "code",
   "execution_count": null,
   "metadata": {},
   "outputs": [],
   "source": [
    "#Now merging the two data frames vertically\n",
    "population_of_indian_cities_df = pd.concat([indian_cities_population_df,indian_cities_and_state_df])\n",
    "population_of_indian_cities_df"
   ]
  },
  {
   "cell_type": "code",
   "execution_count": null,
   "metadata": {},
   "outputs": [],
   "source": [
    "## But this is not what we want, we have to join my axis = 1\n",
    "population_of_indian_cities_df = pd.concat([indian_cities_population_df,indian_cities_and_state_df], axis=1)\n",
    "population_of_indian_cities_df"
   ]
  },
  {
   "cell_type": "markdown",
   "metadata": {},
   "source": [
    "## Use case : If the order of the cities in the two data frames are different"
   ]
  },
  {
   "cell_type": "code",
   "execution_count": null,
   "metadata": {},
   "outputs": [],
   "source": [
    "indian_cities_population_df1 = pd.DataFrame({\n",
    "    'City':['Mumbai','Amalner','Hyderabad','Habra','Akot','Bengaluru','Gokak','Delhi','Ahmedabad','Chennai','Kolkata'],\n",
    "    'Popilation':[13597924,95994,6809970,149675,92637,8425970,79121,11007835,7208200,4681087,4486679]\n",
    "})\n",
    "indian_cities_population_df1"
   ]
  },
  {
   "cell_type": "code",
   "execution_count": null,
   "metadata": {},
   "outputs": [],
   "source": [
    "indian_cities_and_state_df1 = pd.DataFrame({\n",
    "    'City': ['Mumbai','Delhi','Bengaluru','Ahmedabad','Hyderabad','Chennai','Kolkata','Habra','Gokak','Akot'],\n",
    "    'State': ['Maharashtra','Delhi','Karnataka','Gujarat','Telengana','Tamil Nadu','West Bangal','West Bangal','Karnataka','Maharashtra'],\n",
    "    'Type': ['Municipal Corporation / Corporation','Municipal Corporation / Corporation','Municipal Corporation / Corporation','Municipal Corporation / Corporation','Municipal Corporation / Corporation','Municipal Corporation / Corporation','Municipal Corporation / Corporation','Municipality','City Municipal Council','Municipal Council'],\n",
    "    'Class': ['Grade I','Grade I','Grade I','Grade I','Grade I','Grade I','Grade I','Grade II','Grade II','Grade II']\n",
    "}\n",
    ")\n",
    "indian_cities_and_state_df1"
   ]
  },
  {
   "cell_type": "code",
   "execution_count": null,
   "metadata": {},
   "outputs": [],
   "source": [
    "population_of_indian_cities_df1 = pd.concat([indian_cities_population_df1,indian_cities_and_state_df1], axis=1)\n",
    "population_of_indian_cities_df1"
   ]
  },
  {
   "cell_type": "markdown",
   "metadata": {},
   "source": [
    "## *The above join is not correct*. We have to create an index and then join the two data frames"
   ]
  },
  {
   "cell_type": "code",
   "execution_count": null,
   "metadata": {},
   "outputs": [],
   "source": [
    "indian_cities_population_df2 = pd.DataFrame({\n",
    "    'City':['Mumbai','Hyderabad','Habra','Akot','Bengaluru','Gokak','Delhi','Ahmedabad','Chennai','Kolkata','Amalner',],\n",
    "    'Popilation':[13597924,6809970,149675,92637,8425970,79121,11007835,7208200,4681087,4486679,95994]\n",
    "},\n",
    "index=[0,4,7,9,2,8,1,3,5,6,10])\n",
    "indian_cities_population_df2"
   ]
  },
  {
   "cell_type": "code",
   "execution_count": null,
   "metadata": {},
   "outputs": [],
   "source": [
    "indian_cities_and_state_df2 = pd.DataFrame({\n",
    "    'City': ['Mumbai','Delhi','Bengaluru','Ahmedabad','Hyderabad','Chennai','Kolkata','Habra','Gokak','Akot'],\n",
    "    'State': ['Maharashtra','Delhi','Karnataka','Gujarat','Telengana','Tamil Nadu','West Bangal','West Bangal','Karnataka','Maharashtra'],\n",
    "    'Type': ['Municipal Corporation / Corporation','Municipal Corporation / Corporation','Municipal Corporation / Corporation','Municipal Corporation / Corporation','Municipal Corporation / Corporation','Municipal Corporation / Corporation','Municipal Corporation / Corporation','Municipality','City Municipal Council','Municipal Council'],\n",
    "    'Class': ['Grade I','Grade I','Grade I','Grade I','Grade I','Grade I','Grade I','Grade II','Grade II','Grade II']\n",
    "},\n",
    "    index=[0,1,2,3,4,5,6,7,8,9]\n",
    ")\n",
    "indian_cities_and_state_df2"
   ]
  },
  {
   "cell_type": "code",
   "execution_count": null,
   "metadata": {},
   "outputs": [],
   "source": [
    "population_of_indian_cities_df2 = pd.concat([indian_cities_population_df2,indian_cities_and_state_df2], axis=1)\n",
    "population_of_indian_cities_df2"
   ]
  },
  {
   "cell_type": "markdown",
   "metadata": {},
   "source": [
    "## Now the above join looks good"
   ]
  },
  {
   "cell_type": "markdown",
   "metadata": {},
   "source": [
    "## Use Case : joining a data frame with a series"
   ]
  },
  {
   "cell_type": "code",
   "execution_count": null,
   "metadata": {},
   "outputs": [],
   "source": [
    "# Creating a pandas series for metro / non metro\n",
    "metro_series = pd.Series([\"Metro\",\"Metro\",\"Non Metro\",\"Non Metro\",\"Non Metro\",\"Metro\",\"Metro\",\"Non Metro\",\"Non Metro\",\"Non Metro\",\"Non Metro\"], name = \"Metro/Non Metro\")\n",
    "\n",
    "population_of_indian_cities_df3 = pd.concat([population_of_indian_cities_df2,metro_series], axis = 1)\n",
    "population_of_indian_cities_df3"
   ]
  },
  {
   "cell_type": "markdown",
   "metadata": {},
   "source": [
    "# Merging of two data frames - This is a better way of merging two data frames vertically , where we do not have to mention the index. This is similar to joining tables in any RDBMS"
   ]
  },
  {
   "cell_type": "code",
   "execution_count": null,
   "metadata": {},
   "outputs": [],
   "source": [
    "indian_cities_population_df2"
   ]
  },
  {
   "cell_type": "code",
   "execution_count": null,
   "metadata": {},
   "outputs": [],
   "source": [
    "indian_cities_and_state_df2"
   ]
  },
  {
   "cell_type": "markdown",
   "metadata": {},
   "source": [
    "## Joining the data frames indian_cities_and_state_df2 and indian_cities_population_df2"
   ]
  },
  {
   "cell_type": "code",
   "execution_count": null,
   "metadata": {},
   "outputs": [],
   "source": [
    "#Left Join \n",
    "population_of_indian_cities_df2 = pd.merge(indian_cities_population_df2,indian_cities_and_state_df2,\n",
    "                                           on=\"City\", how = \"inner\") # inner join is by default\n",
    "population_of_indian_cities_df2"
   ]
  },
  {
   "cell_type": "code",
   "execution_count": null,
   "metadata": {},
   "outputs": [],
   "source": [
    "#Right Join \n",
    "population_of_indian_cities_df2 = pd.merge(indian_cities_population_df2,indian_cities_and_state_df2,\n",
    "                                           on=\"City\", how = \"left\")\n",
    "population_of_indian_cities_df2"
   ]
  },
  {
   "cell_type": "code",
   "execution_count": null,
   "metadata": {},
   "outputs": [],
   "source": [
    "#Right Join \n",
    "population_of_indian_cities_df2 = pd.merge(indian_cities_population_df2,indian_cities_and_state_df2,\n",
    "                                           on=\"City\", how = \"right\")\n",
    "population_of_indian_cities_df2"
   ]
  },
  {
   "cell_type": "code",
   "execution_count": null,
   "metadata": {},
   "outputs": [],
   "source": [
    "#Outer Join \n",
    "population_of_indian_cities_df2 = pd.merge(indian_cities_population_df2,indian_cities_and_state_df2,\n",
    "                                           on=\"City\", how = \"outer\")\n",
    "population_of_indian_cities_df2"
   ]
  },
  {
   "cell_type": "code",
   "execution_count": null,
   "metadata": {},
   "outputs": [],
   "source": [
    "## Turning on the indicator flag to see which column is coming from which data frame\n",
    "#Outer Join \n",
    "population_of_indian_cities_df2 = pd.merge(indian_cities_population_df2,indian_cities_and_state_df2,\n",
    "                                           on=\"City\", how = \"outer\", \n",
    "                                           indicator=True)\n",
    "population_of_indian_cities_df2"
   ]
  },
  {
   "cell_type": "markdown",
   "metadata": {},
   "source": [
    "## If we have same column name in both the data frames then we can use suffix to see which column is coming from which data frame"
   ]
  },
  {
   "cell_type": "code",
   "execution_count": null,
   "metadata": {},
   "outputs": [],
   "source": [
    "indian_cities_population_df3 = pd.DataFrame({\n",
    "    'City':['Mumbai','Hyderabad','Habra','Akot','Bengaluru','Gokak','Delhi','Ahmedabad','Chennai','Kolkata','Amalner',],\n",
    "    'Popilation':[13597924,6809970,149675,92637,8425970,79121,11007835,7208200,4681087,4486679,95994]\n",
    "},\n",
    ")\n",
    "indian_cities_population_df3.set_index('City', inplace = True)\n",
    "indian_cities_population_df3"
   ]
  },
  {
   "cell_type": "code",
   "execution_count": null,
   "metadata": {},
   "outputs": [],
   "source": [
    "indian_cities_and_state_df3 = pd.DataFrame({\n",
    "    'City': ['Mumbai','Delhi','Bengaluru','Ahmedabad','Hyderabad','Chennai','Kolkata','Habra','Gokak','Akot'],\n",
    "    'State': ['Maharashtra','Delhi','Karnataka','Gujarat','Telengana','Tamil Nadu','West Bangal','West Bangal','Karnataka','Maharashtra'],\n",
    "    'Type': ['Municipal Corporation / Corporation','Municipal Corporation / Corporation','Municipal Corporation / Corporation','Municipal Corporation / Corporation','Municipal Corporation / Corporation','Municipal Corporation / Corporation','Municipal Corporation / Corporation','Municipality','City Municipal Council','Municipal Council'],\n",
    "    'Population':[13597924,11007835,8425970,7208200,6809970,4681087,4486679,149675,79121,92637],\n",
    "    'Class': ['Grade I','Grade I','Grade I','Grade I','Grade I','Grade I','Grade I','Grade II','Grade II','Grade II']\n",
    "}\n",
    ")\n",
    "indian_cities_and_state_df3.set_index('City', inplace = True)\n",
    "\n",
    "indian_cities_and_state_df3"
   ]
  },
  {
   "cell_type": "code",
   "execution_count": null,
   "metadata": {},
   "outputs": [],
   "source": [
    "population_of_indian_cities_df3 = pd.merge(indian_cities_population_df3,indian_cities_and_state_df3,\n",
    "                                           on=\"City\", \n",
    "                                           how = \"outer\",\n",
    "                                           indicator=True\n",
    "                                           )\n",
    "population_of_indian_cities_df3"
   ]
  },
  {
   "cell_type": "code",
   "execution_count": null,
   "metadata": {},
   "outputs": [],
   "source": [
    "population_of_indian_cities_df3 = pd.merge(indian_cities_population_df3,indian_cities_and_state_df3,\n",
    "                                           on=\"City\", \n",
    "                                           how=\"outer\",\n",
    "                                           suffixes=('_1','_2'),\n",
    "                                           indicator=True\n",
    "                                           )\n",
    "population_of_indian_cities_df3"
   ]
  }
 ],
 "metadata": {
  "kernelspec": {
   "display_name": "Python 3",
   "language": "python",
   "name": "python3"
  },
  "language_info": {
   "codemirror_mode": {
    "name": "ipython",
    "version": 3
   },
   "file_extension": ".py",
   "mimetype": "text/x-python",
   "name": "python",
   "nbconvert_exporter": "python",
   "pygments_lexer": "ipython3",
   "version": "3.7.4"
  },
  "widgets": {
   "application/vnd.jupyter.widget-state+json": {
    "state": {},
    "version_major": 2,
    "version_minor": 0
   }
  }
 },
 "nbformat": 4,
 "nbformat_minor": 2
}