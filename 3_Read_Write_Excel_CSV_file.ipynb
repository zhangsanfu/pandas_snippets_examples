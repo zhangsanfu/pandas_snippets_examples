{
 "cells": [
  {
   "cell_type": "code",
   "execution_count": null,
   "metadata": {},
   "outputs": [],
   "source": [
    "import pandas as pd"
   ]
  },
  {
   "cell_type": "markdown",
   "metadata": {},
   "source": [
    "## We will use the stock data csv file for this demonstration\n",
    "![Stock Data CSV file to be used in this example](images/stock_data.jpg \"stock_data.jpg\")"
   ]
  },
  {
   "cell_type": "code",
   "execution_count": null,
   "metadata": {},
   "outputs": [],
   "source": [
    "stock_data_df = pd.read_csv(\"C:\\\\PythonTutorial\\\\MyPandas_Blog\\\\data sets\\\\stock_data.csv\")\n",
    "\n",
    "stock_data_df"
   ]
  },
  {
   "cell_type": "markdown",
   "metadata": {},
   "source": [
    "## Use Case : The CSV file has an extra header \n",
    "![Stock Data CSV file with extra header to be used in this example](images/stock_data_with_extra_header.jpg \"stock_data_with_extra_header.jpg\")"
   ]
  },
  {
   "cell_type": "code",
   "execution_count": null,
   "metadata": {},
   "outputs": [],
   "source": [
    "stock_data_with_extra_header_df = pd.read_csv(\"C:\\\\PythonTutorial\\\\MyPandas_Blog\\\\data sets\\\\stock_data_with_extra_header.csv\")\n",
    "\n",
    "stock_data_with_extra_header_df"
   ]
  },
  {
   "cell_type": "markdown",
   "metadata": {},
   "source": [
    "## The actual heading got shifted by one row. We need to use skiprows argument to skip the first row"
   ]
  },
  {
   "cell_type": "code",
   "execution_count": null,
   "metadata": {},
   "outputs": [],
   "source": [
    "stock_data_with_extra_header_df = pd.read_csv(\"C:\\\\PythonTutorial\\\\MyPandas_Blog\\\\data sets\\\\stock_data_with_extra_header.csv\",\n",
    "                                             skiprows = 1)\n",
    "\n",
    "stock_data_with_extra_header_df"
   ]
  },
  {
   "cell_type": "markdown",
   "metadata": {},
   "source": [
    "## We can also achieve the same result by specifying header = 1 argument, which specifies the position of the header row"
   ]
  },
  {
   "cell_type": "code",
   "execution_count": null,
   "metadata": {},
   "outputs": [],
   "source": [
    "stock_data_with_extra_header_df = pd.read_csv(\"C:\\\\PythonTutorial\\\\MyPandas_Blog\\\\data sets\\\\stock_data_with_extra_header.csv\",\n",
    "                                             header = 1)\n",
    "\n",
    "stock_data_with_extra_header_df"
   ]
  },
  {
   "cell_type": "markdown",
   "metadata": {},
   "source": [
    "## Use Case : The CSV file do not have a header at all\n",
    "![Stock Data CSV file with no header to be used in this example](images/stock_data_with_no_header.jpg \"stock_data_with_no_header.jpg\")"
   ]
  },
  {
   "cell_type": "code",
   "execution_count": null,
   "metadata": {},
   "outputs": [],
   "source": [
    "stock_data_with_no_header_df = pd.read_csv(\"C:\\\\PythonTutorial\\\\MyPandas_Blog\\\\data sets\\\\stock_data_with_no_header.csv\",\n",
    "                                            header = None\n",
    "                                          )\n",
    "\n",
    "stock_data_with_no_header_df"
   ]
  },
  {
   "cell_type": "markdown",
   "metadata": {},
   "source": [
    "## But it is very difficult to read the columns without names, we need to pass the names argument to set the columns"
   ]
  },
  {
   "cell_type": "code",
   "execution_count": null,
   "metadata": {},
   "outputs": [],
   "source": [
    "stock_data_with_no_header_df = pd.read_csv(\"C:\\\\PythonTutorial\\\\MyPandas_Blog\\\\data sets\\\\stock_data_with_no_header.csv\",\n",
    "                                            header = None,\n",
    "                                           names = [\"tickers\",\"eps\",\"revenue\",\"price\",\"people\"]\n",
    "                                          )\n",
    "\n",
    "stock_data_with_no_header_df"
   ]
  },
  {
   "cell_type": "markdown",
   "metadata": {},
   "source": [
    "## Use case : If the data set csv file is very big and we want to read only a few rows to see the sample data then pass the argument nrows"
   ]
  },
  {
   "cell_type": "code",
   "execution_count": null,
   "metadata": {},
   "outputs": [],
   "source": [
    "stock_data_sample_df = pd.read_csv(\"C:\\\\PythonTutorial\\\\MyPandas_Blog\\\\data sets\\\\stock_data.csv\",\n",
    "                                    nrows = 3\n",
    "                                  )\n",
    "#nrows = 3 will read the top 3 rows excluding the header\n",
    "stock_data_sample_df "
   ]
  },
  {
   "cell_type": "markdown",
   "metadata": {},
   "source": [
    "## Use case : If the data set csv file has blank rows then use the argument skipblank = True\n",
    "\n",
    "![Stock Data CSV file with blank rows to be used in this example](images/stock_data_with_blank_rows.jpg \"stock_data_with_blank_rows.jpg\")"
   ]
  },
  {
   "cell_type": "code",
   "execution_count": null,
   "metadata": {},
   "outputs": [],
   "source": [
    "stock_data_with_blank_lines_df = pd.read_csv(\"C:\\\\PythonTutorial\\\\MyPandas_Blog\\\\data sets\\\\stock_data_with_blank_rows.csv\",\n",
    "                                   skip_blank_lines = True\n",
    "                                  )\n",
    "#skip_blank_lined = True will skip the blank lines\n",
    "stock_data_with_blank_lines_df "
   ]
  },
  {
   "cell_type": "markdown",
   "metadata": {},
   "source": [
    "## Use case : To interpret the na (not available values differently)\n",
    "\n",
    "## *In the following example we want to convert the values \"n.a.\", \"not available\", -1 to NaN*"
   ]
  },
  {
   "cell_type": "code",
   "execution_count": null,
   "metadata": {},
   "outputs": [],
   "source": [
    "stock_data_na_values_df = pd.read_csv(\"C:\\\\PythonTutorial\\\\MyPandas_Blog\\\\data sets\\\\stock_data.csv\",\n",
    "                                      na_values = [\"n.a.\",\"not available\",-1]\n",
    "                                     )\n",
    "\n",
    "stock_data_na_values_df "
   ]
  },
  {
   "cell_type": "markdown",
   "metadata": {},
   "source": [
    "## Use case : To interpret the na (not available values differently) for different columns\n",
    "\n",
    "## *Here we want to interpret the values \"not available\" and -1.00 in the column \"eps\" and -1 in the column revenue to be converted to NaN*"
   ]
  },
  {
   "cell_type": "code",
   "execution_count": null,
   "metadata": {},
   "outputs": [],
   "source": [
    "stock_data_na_values_df1 = pd.read_csv(\"C:\\\\PythonTutorial\\\\MyPandas_Blog\\\\data sets\\\\stock_data.csv\",\n",
    "                                      na_values = {\n",
    "                                               'eps': [\"not available\",-1],\n",
    "                                               'revenue': [-1]\n",
    "                                      }\n",
    "                                     ) # Instead of supplying a list we will supply a dictionary which will only convert the na values in the eps and revenue columns\n",
    "\n",
    "stock_data_na_values_df1 "
   ]
  },
  {
   "cell_type": "markdown",
   "metadata": {},
   "source": [
    "## Use case : to create a data frame with only the specified columns\n",
    "\n",
    "## *Pass a list with the column names to be used in the data frame**"
   ]
  },
  {
   "cell_type": "code",
   "execution_count": null,
   "metadata": {},
   "outputs": [],
   "source": [
    "stock_data_na_values_df2 = pd.read_csv(\"C:\\\\PythonTutorial\\\\MyPandas_Blog\\\\data sets\\\\stock_data.csv\",\n",
    "                                      na_values = {\n",
    "                                               'eps': [\"not available\",-1],\n",
    "                                               'revenue': [-1]\n",
    "                                      },\n",
    "                                       usecols = [\"tickers\",\"eps\"]\n",
    "                                     ) \n",
    "stock_data_na_values_df2 "
   ]
  },
  {
   "cell_type": "markdown",
   "metadata": {},
   "source": [
    "## Use case : To use a specific column as the index\n",
    "## *Pass the column name to be used as index*\n"
   ]
  },
  {
   "cell_type": "code",
   "execution_count": null,
   "metadata": {},
   "outputs": [],
   "source": [
    "stock_data_na_values_df3 = pd.read_csv(\"C:\\\\PythonTutorial\\\\MyPandas_Blog\\\\data sets\\\\stock_data.csv\",\n",
    "                                      na_values = {\n",
    "                                               'eps': [\"not available\",-1],\n",
    "                                               'revenue': [-1]\n",
    "                                      },\n",
    "                                       index_col = \"tickers\"\n",
    "                                     ) \n",
    "\n",
    "stock_data_na_values_df3 "
   ]
  },
  {
   "cell_type": "markdown",
   "metadata": {},
   "source": [
    "## The parameter squueze = True try to squueze the dimension if possible"
   ]
  },
  {
   "cell_type": "code",
   "execution_count": null,
   "metadata": {},
   "outputs": [],
   "source": [
    "stock_data_na_values_df4 = pd.read_csv(\"C:\\\\PythonTutorial\\\\MyPandas_Blog\\\\data sets\\\\stock_data.csv\",\n",
    "                                      na_values = {\n",
    "                                               'eps': [\"not available\",-1],\n",
    "                                               'revenue': [-1]\n",
    "                                      },\n",
    "                                       squeeze = True\n",
    "                                     ) \n",
    "\n",
    "type(stock_data_na_values_df4)"
   ]
  },
  {
   "cell_type": "markdown",
   "metadata": {},
   "source": [
    "## Writing a data frame back to a csv file"
   ]
  },
  {
   "cell_type": "code",
   "execution_count": null,
   "metadata": {},
   "outputs": [],
   "source": [
    "stock_data_na_values_df1.to_csv(\"C:\\\\PythonTutorial\\\\MyPandas_Blog\\\\data sets\\\\stock_data_output.csv\")"
   ]
  },
  {
   "cell_type": "markdown",
   "metadata": {},
   "source": [
    "## stock_data_output.csv\n",
    "\n",
    "![stock_data_output.csv](images/stock_data_output.jpg \"stock_data_output.jpg\")"
   ]
  },
  {
   "cell_type": "markdown",
   "metadata": {},
   "source": [
    "## By default the index column is written to the csv file. To exclude the index column pass the argument index = False "
   ]
  },
  {
   "cell_type": "code",
   "execution_count": null,
   "metadata": {},
   "outputs": [],
   "source": [
    "stock_data_na_values_df1.to_csv(\"C:\\\\PythonTutorial\\\\MyPandas_Blog\\\\data sets\\\\stock_data_output1.csv\", index = False)"
   ]
  },
  {
   "cell_type": "markdown",
   "metadata": {},
   "source": [
    "## stock_data_output1.csv\n",
    "\n",
    "![stock_data_output1.csv](images/stock_data_output1.jpg \"stock_data_output.jpg\")"
   ]
  },
  {
   "cell_type": "markdown",
   "metadata": {},
   "source": [
    "## To create the csv with only selected columns (tickers and eps in this case)"
   ]
  },
  {
   "cell_type": "code",
   "execution_count": null,
   "metadata": {},
   "outputs": [],
   "source": [
    "stock_data_na_values_df1.to_csv(\"C:\\\\PythonTutorial\\\\MyPandas_Blog\\\\data sets\\\\stock_data_output2.csv\", \n",
    "                                index = False,\n",
    "                               columns = [\"tickers\",\"eps\"])"
   ]
  },
  {
   "cell_type": "markdown",
   "metadata": {},
   "source": [
    "## stock_data_output2.csv\n",
    "\n",
    "![stock_data_output2.csv](images/stock_data_output2.jpg \"stock_data_output2.jpg\")"
   ]
  },
  {
   "cell_type": "markdown",
   "metadata": {},
   "source": [
    "## To create the csv without any header pass the argument header = False"
   ]
  },
  {
   "cell_type": "code",
   "execution_count": null,
   "metadata": {},
   "outputs": [],
   "source": [
    "stock_data_na_values_df1.to_csv(\"C:\\\\PythonTutorial\\\\MyPandas_Blog\\\\data sets\\\\stock_data_output3.csv\", \n",
    "                                index = False,\n",
    "                               header = False)"
   ]
  },
  {
   "cell_type": "markdown",
   "metadata": {},
   "source": [
    "## stock_data_output3.csv\n",
    "\n",
    "![stock_data_output3.csv](images/stock_data_output3.jpg \"stock_data_output3.jpg\")"
   ]
  },
  {
   "cell_type": "markdown",
   "metadata": {},
   "source": [
    "# To demonstrate the options while creating a data frame from an excel file"
   ]
  },
  {
   "cell_type": "code",
   "execution_count": null,
   "metadata": {},
   "outputs": [],
   "source": [
    "stock_data_xlsx_df = pd.read_excel(\"C:\\\\PythonTutorial\\\\MyPandas_Blog\\\\data sets\\\\stock_data_xlsx.xlsx\",0) \n",
    "# 0 is to read the first sheet\n",
    "# Alternatively we can also pass \"Sheet1\" or the sheet name to read that particular sheet\n",
    "stock_data_xlsx_df"
   ]
  },
  {
   "cell_type": "markdown",
   "metadata": {},
   "source": [
    "## To convert the cell values while creating a data frame from an excel file.\n",
    "\n",
    "## *Here we want to convert the value \"n.a.\" in the column pepole for Walmart to \"Sam Walton\"*"
   ]
  },
  {
   "cell_type": "code",
   "execution_count": null,
   "metadata": {},
   "outputs": [],
   "source": [
    "def convert_people_cell(cell):\n",
    "    if cell == \"n.a.\":\n",
    "        return \"Sam Walton\"\n",
    "    else:\n",
    "        return cell\n",
    "\n",
    "\n",
    "stock_data_xlsx_df = pd.read_excel(\"C:\\\\PythonTutorial\\\\MyPandas_Blog\\\\data sets\\\\stock_data_xlsx.xlsx\",0,\n",
    "                                  converters = {\n",
    "                                      'people': convert_people_cell\n",
    "                                  }\n",
    "                                ) \n",
    "# 0 is to read the first sheet\n",
    "# Alternatively we can also pass \"Sheet1\" or the sheet name to read that particular sheet\n",
    "stock_data_xlsx_df"
   ]
  },
  {
   "cell_type": "markdown",
   "metadata": {},
   "source": [
    "# Writing back a data frame to an excel file"
   ]
  },
  {
   "cell_type": "code",
   "execution_count": null,
   "metadata": {},
   "outputs": [],
   "source": [
    "stock_data_xlsx_df.to_excel(\"C:\\\\PythonTutorial\\\\MyPandas_Blog\\\\data sets\\\\stock_data_xlsx_out.xlsx\",\n",
    "                            sheet_name = \"Stock Ticker\")"
   ]
  },
  {
   "cell_type": "markdown",
   "metadata": {},
   "source": [
    "## stock_data_excel.xlsx\n",
    "\n",
    "![stock_data_excel.xlsx](images/stock_data_excel.jpg \"stock_data_excel.jpg\")"
   ]
  },
  {
   "cell_type": "markdown",
   "metadata": {},
   "source": [
    "## To exclude the index column and start writing at row=1 and col=2"
   ]
  },
  {
   "cell_type": "code",
   "execution_count": null,
   "metadata": {},
   "outputs": [],
   "source": [
    "stock_data_xlsx_df.to_excel(\"C:\\\\PythonTutorial\\\\MyPandas_Blog\\\\data sets\\\\stock_data_xlsx_out1.xlsx\",\n",
    "                            index = False,\n",
    "                            startrow = 1,\n",
    "                            startcol = 1,\n",
    "                            sheet_name = \"Stock Ticker\")"
   ]
  },
  {
   "cell_type": "markdown",
   "metadata": {},
   "source": [
    "## stock_data_excel1.xlsx\n",
    "\n",
    "![stock_data_excel1.xlsx](images/stock_data_excel1.jpg \"stock_data_excel1.jpg\")"
   ]
  },
  {
   "cell_type": "markdown",
   "metadata": {},
   "source": [
    "## To write two data frames into two different sheets of the same excel file"
   ]
  },
  {
   "cell_type": "code",
   "execution_count": null,
   "metadata": {},
   "outputs": [],
   "source": [
    "stock_data_xlsx_df_ticker = stock_data_xlsx_df[[\"tickers\",\"people\"]]\n",
    "stock_data_xlsx_df_rev = stock_data_xlsx_df[[\"tickers\",\"eps\",\"revenue\"]]\n",
    "\n",
    "with pd.ExcelWriter(\"C:\\\\PythonTutorial\\\\MyPandas_Blog\\\\data sets\\\\stock_data_xlsx_out2.xlsx\") as excel_writer:\n",
    "    stock_data_xlsx_df_ticker.to_excel(excel_writer, sheet_name = \"stocks\")\n",
    "    stock_data_xlsx_df_rev.to_excel(excel_writer, sheet_name = \"revenue\")"
   ]
  },
  {
   "cell_type": "markdown",
   "metadata": {},
   "source": [
    "## stock_data_xlsx_out2.xlsx\n",
    "\n",
    "![stock_data_xlsx_out2.xlsx](images/stock_data_excel_out_tab1.jpg \"stock_data_excel_out_tab1.jpg\")\n",
    "![stock_data_xlsx_out2.xlsx](images/stock_data_excel_out_tab2.jpg \"stock_data_excel_out_tab2.jpg\")\n",
    "\n"
   ]
  }
 ],
 "metadata": {
  "kernelspec": {
   "display_name": "Python 3",
   "language": "python",
   "name": "python3"
  },
  "language_info": {
   "codemirror_mode": {
    "name": "ipython",
    "version": 3
   },
   "file_extension": ".py",
   "mimetype": "text/x-python",
   "name": "python",
   "nbconvert_exporter": "python",
   "pygments_lexer": "ipython3",
   "version": "3.7.4"
  }
 },
 "nbformat": 4,
 "nbformat_minor": 2
}