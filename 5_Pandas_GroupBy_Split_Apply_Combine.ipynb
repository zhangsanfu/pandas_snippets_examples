{
 "cells": [
  {
   "cell_type": "markdown",
   "metadata": {},
   "source": [
    "# To demonstrate the group by feature of Pandas data frame"
   ]
  },
  {
   "cell_type": "code",
   "execution_count": null,
   "metadata": {},
   "outputs": [],
   "source": [
    "import pandas as pd"
   ]
  },
  {
   "cell_type": "code",
   "execution_count": null,
   "metadata": {},
   "outputs": [],
   "source": [
    "# We will use the global superstore data set for demonstration\n",
    "# Create the global superstore data frame from the excel Global Superstore.xls (Orders tab)\n",
    "\n",
    "global_superstore_df = pd.read_excel('C:\\PythonTutorial\\MyPandas_Blog\\data sets\\Global Superstore.xls','Orders')\n",
    "\n",
    "global_superstore_df.head()"
   ]
  },
  {
   "cell_type": "markdown",
   "metadata": {},
   "source": [
    "## Use Case : Get the total sale per country"
   ]
  },
  {
   "cell_type": "code",
   "execution_count": null,
   "metadata": {},
   "outputs": [],
   "source": [
    "global_superstore_sales_country_df = global_superstore_df[[\"Country\",\"Sales\"]]\n",
    "global_superstore_sales_country_df.head()"
   ]
  },
  {
   "cell_type": "code",
   "execution_count": null,
   "metadata": {},
   "outputs": [],
   "source": [
    "#First we will create a dictionary with country name as the key\n",
    "dict_sales_per_country = {}\n",
    "\n",
    "countries = []\n",
    "sales = []\n",
    "for country,sales_per_country_df in global_superstore_sales_country_df.groupby('Country'):\n",
    "    #dict_sales_per_country[city] = sales_per_country_df['Sales'].sum()\n",
    "    countries.append(country)\n",
    "    sales.append(sales_per_country_df['Sales'].sum())\n",
    "\n",
    "dict_sales_per_country = {\n",
    "    'Countries': countries,\n",
    "    'Sales': sales\n",
    "}\n",
    "\n",
    "#print (dict_sales_per_country)\n",
    "#Then create a data frame from the dictinary\n",
    "country_total_sales_df = pd.DataFrame(dict_sales_per_country)\n",
    "country_total_sales_df"
   ]
  },
  {
   "cell_type": "markdown",
   "metadata": {},
   "source": [
    "# Sales by countries SQL \n",
    "\n",
    "*SELECT country,SUM(sales) AS sum_sales\n",
    "FROM global_superstore\n",
    "GROUP BY country\n",
    "ORDER BY country ASC;*\n",
    "\n",
    "![SELECT country,SUM(sales) AS sum_sales\n",
    "FROM global_superstore\n",
    "GROUP BY country\n",
    "ORDER BY country ASC](images/sales_by_country.jpg \"SELECT country,SUM(sales) AS sum_sales\n",
    "FROM global_superstore\n",
    "GROUP BY country\n",
    "ORDER BY country ASC;\")"
   ]
  },
  {
   "cell_type": "markdown",
   "metadata": {},
   "source": [
    "## Group By cities"
   ]
  },
  {
   "cell_type": "code",
   "execution_count": null,
   "metadata": {},
   "outputs": [],
   "source": [
    "global_superstore_sales_cities_df = global_superstore_df[[\"Country\",\"City\",\"Sales\"]]\n",
    "global_superstore_sales_cities_df.head()"
   ]
  },
  {
   "cell_type": "code",
   "execution_count": null,
   "metadata": {},
   "outputs": [],
   "source": [
    "for city,sales_by_city_df in global_superstore_sales_cities_df.groupby(\"City\"):\n",
    "    print(sales_by_city_df)"
   ]
  },
  {
   "cell_type": "code",
   "execution_count": null,
   "metadata": {},
   "outputs": [],
   "source": [
    "#To access the sales in a particular city\n",
    "sales_by_city_df = global_superstore_sales_cities_df.groupby(\"City\")\n",
    "sales_by_city_df.get_group(\"Aachen\")"
   ]
  },
  {
   "cell_type": "markdown",
   "metadata": {},
   "source": [
    "## Use Case : Get the maximum sales in each country"
   ]
  },
  {
   "cell_type": "code",
   "execution_count": null,
   "metadata": {},
   "outputs": [],
   "source": [
    "sales_per_country_df = global_superstore_sales_country_df.groupby('Country')\n",
    "sales_per_country_df.max()"
   ]
  },
  {
   "cell_type": "markdown",
   "metadata": {},
   "source": [
    "## Use Case : To get all the analytics by cuntries in one shot"
   ]
  },
  {
   "cell_type": "code",
   "execution_count": null,
   "metadata": {},
   "outputs": [],
   "source": [
    "sales_per_country_df.describe()"
   ]
  },
  {
   "cell_type": "markdown",
   "metadata": {},
   "source": [
    "## To plot a chart "
   ]
  },
  {
   "cell_type": "code",
   "execution_count": null,
   "metadata": {},
   "outputs": [],
   "source": [
    "%matplotlib inline"
   ]
  },
  {
   "cell_type": "code",
   "execution_count": null,
   "metadata": {},
   "outputs": [],
   "source": [
    "sales_by_city_df.get_group(\"Aachen\").plot(title = \"Sales in the city Aachen\")"
   ]
  }
 ],
 "metadata": {
  "kernelspec": {
   "display_name": "Python 3",
   "language": "python",
   "name": "python3"
  },
  "language_info": {
   "codemirror_mode": {
    "name": "ipython",
    "version": 3
   },
   "file_extension": ".py",
   "mimetype": "text/x-python",
   "name": "python",
   "nbconvert_exporter": "python",
   "pygments_lexer": "ipython3",
   "version": "3.7.4"
  }
 },
 "nbformat": 4,
 "nbformat_minor": 2
}